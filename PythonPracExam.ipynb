{
 "cells": [
  {
   "cell_type": "markdown",
   "metadata": {},
   "source": [
    "Q1 Write a Python program to draw a scatter plot with empty circles taking a random distribution in X and Y and plotted against each other."
   ]
  },
  {
   "cell_type": "code",
   "execution_count": null,
   "metadata": {},
   "outputs": [],
   "source": []
  },
  {
   "cell_type": "markdown",
   "metadata": {},
   "source": [
    "Q2"
   ]
  },
  {
   "cell_type": "code",
   "execution_count": null,
   "metadata": {},
   "outputs": [],
   "source": []
  },
  {
   "cell_type": "markdown",
   "metadata": {},
   "source": [
    "Q3"
   ]
  },
  {
   "cell_type": "code",
   "execution_count": null,
   "metadata": {},
   "outputs": [],
   "source": []
  },
  {
   "cell_type": "markdown",
   "metadata": {},
   "source": [
    "Q4 Write a Python script to concatenate following dictionaries to create a new one.\n",
    "Sample Dictionary :\n",
    "dic1={1:10, 2:20}\n",
    "dic2={3:30, 4:40}\n",
    "dic3={5:50,6:60}\n",
    "Expected Result : {1: 10, 2: 20, 3: 30, 4: 40, 5: 50, 6: 60}"
   ]
  },
  {
   "cell_type": "code",
   "execution_count": 2,
   "metadata": {},
   "outputs": [
    {
     "name": "stdout",
     "output_type": "stream",
     "text": [
      "{1: 10, 2: 20, 3: 30, 4: 40, 5: 50, 6: 60}\n"
     ]
    }
   ],
   "source": [
    "dic1 = {1:10,2:20}\n",
    "dic2 = {3:30,4:40}\n",
    "dic3 = {5:50,6:60}\n",
    "\n",
    "res = dict(dic1)\n",
    "res.update(dic2)\n",
    "res.update(dic3)\n",
    "print(res)"
   ]
  },
  {
   "cell_type": "markdown",
   "metadata": {},
   "source": [
    "Q5 Write a Python script to check whether a given key already exists in a dictionary."
   ]
  },
  {
   "cell_type": "code",
   "execution_count": 6,
   "metadata": {},
   "outputs": [
    {
     "name": "stdout",
     "output_type": "stream",
     "text": [
      "Yes, 'model' is one of the keys in the dictionary\n"
     ]
    }
   ],
   "source": [
    "thisdict = {\n",
    "\"brand\": \"Ford\",\n",
    "\"model\": \"Mustang\",\n",
    "\"year\": 1964\n",
    "}\n",
    "if \"model\" in thisdict:\n",
    "    print(\"Yes, 'model' is one of the keys in the dictionary\")\n",
    "else:\n",
    "    print('No such key present in the dictionary')"
   ]
  },
  {
   "cell_type": "markdown",
   "metadata": {},
   "source": [
    "Q6 Write a Python script to generate and print a dictionary that contains a number (between 1 and n) in the form (x, x*x).Sample Dictionary\n",
    "( n = 5) : Expected Output : {1: 1, 2: 4, 3: 9, 4: 16, 5: 25}"
   ]
  },
  {
   "cell_type": "code",
   "execution_count": 8,
   "metadata": {},
   "outputs": [
    {
     "name": "stdout",
     "output_type": "stream",
     "text": [
      "{1: 1, 2: 4, 3: 9, 4: 16, 5: 25, 6: 36, 7: 49}\n"
     ]
    }
   ],
   "source": [
    "n = int(input(\"Enter a number: \"))\n",
    "myDict = {}\n",
    "for i in range(1,n+1):\n",
    "    myDict[i] = i**2\n",
    "\n",
    "print(myDict)"
   ]
  },
  {
   "cell_type": "markdown",
   "metadata": {},
   "source": [
    "Q8 Write a Python program to map two lists into a dictionary."
   ]
  },
  {
   "cell_type": "code",
   "execution_count": 9,
   "metadata": {},
   "outputs": [
    {
     "name": "stdout",
     "output_type": "stream",
     "text": [
      "{'red': '#FF0000', 'green': '#008000', 'blue': '#0000FF'}\n"
     ]
    }
   ],
   "source": [
    "keys = ['red', 'green', 'blue']\n",
    "values = ['#FF0000','#008000', '#0000FF']\n",
    "color_dictionary = dict(zip(keys, values))\n",
    "print(color_dictionary)"
   ]
  },
  {
   "cell_type": "markdown",
   "metadata": {},
   "source": [
    "Q9 Write a Python program to print all unique values in a dictionary\n",
    "Sample Data : [{\"V\":\"S001\"}, {\"V\": \"S002\"}, {\"VI\": \"S001\"}, {\"VI\": \"S005\"}, {\"VII\":\"S005\"}, {\"V\":\"S009\"},{\"VIII\":\"S007\"}]\n",
    "Expected Output : Unique Values: {'S005', 'S002', 'S007', 'S001', 'S009'}"
   ]
  },
  {
   "cell_type": "code",
   "execution_count": 21,
   "metadata": {},
   "outputs": [
    {
     "name": "stdout",
     "output_type": "stream",
     "text": [
      "{'S007', 'S009', 'S001', 'S005', 'S002'}\n"
     ]
    }
   ],
   "source": [
    "DictData = [{\"V\":\"S001\"}, {\"V\": \"S002\"}, {\"VI\": \"S001\"}, {\"VI\": \"S005\"}, {\"VII\":\"S005\"}, {\"V\":\"S009\"},{\"VIII\":\"S007\"}]\n",
    "s = set({})\n",
    "for dic in DictData:\n",
    "    for val in dic.values():\n",
    "        s.add(val)\n",
    "print(s)\n"
   ]
  },
  {
   "cell_type": "markdown",
   "metadata": {},
   "source": [
    "Q7 Write a Python program to remove a key from a dictionary"
   ]
  },
  {
   "cell_type": "code",
   "execution_count": 22,
   "metadata": {},
   "outputs": [
    {
     "name": "stdout",
     "output_type": "stream",
     "text": [
      "{'x': 1, 'y': 2, 'z': 3}\n",
      "{'y': 2, 'z': 3}\n"
     ]
    }
   ],
   "source": [
    "removeDict = {\n",
    "    \"x\" : 1,\n",
    "    \"y\" : 2,\n",
    "    \"z\" : 3\n",
    "}\n",
    "print(removeDict)\n",
    "removeDict.pop(\"x\")\n",
    "print(removeDict)"
   ]
  },
  {
   "cell_type": "markdown",
   "metadata": {},
   "source": [
    "Q10 Write a Python program to create a dictionary from a string. Note: Track the count of the letters from the string."
   ]
  },
  {
   "cell_type": "code",
   "execution_count": 23,
   "metadata": {},
   "outputs": [
    {
     "name": "stdout",
     "output_type": "stream",
     "text": [
      "{'w': 1, '3': 1, 'r': 2, 'e': 2, 's': 1, 'o': 1, 'u': 1, 'c': 1}\n"
     ]
    }
   ],
   "source": [
    "from collections import defaultdict, Counter\n",
    "str1 = 'w3resource' \n",
    "my_dict = {}\n",
    "for letter in str1:\n",
    "    my_dict[letter] = my_dict.get(letter, 0) + 1\n",
    "print(my_dict)\n"
   ]
  },
  {
   "cell_type": "markdown",
   "metadata": {},
   "source": [
    "Q11 Write a program that takes a sentence as an input parameter where each word in the sentence is separated by a space. Then replace each\n",
    "blank with a hyphen and then print the modified sentence."
   ]
  },
  {
   "cell_type": "code",
   "execution_count": 26,
   "metadata": {},
   "outputs": [
    {
     "name": "stdout",
     "output_type": "stream",
     "text": [
      "this-is-a-sample-sentence\n"
     ]
    }
   ],
   "source": [
    "sentence = input(\"Enter a sentence: \")\n",
    "hyphenSentence = sentence.replace(\" \",\"-\")\n",
    "print(hyphenSentence)"
   ]
  },
  {
   "cell_type": "markdown",
   "metadata": {},
   "source": [
    "Q12 write a program to randomly select 10 integer elements from range 100 to 200 and find the smallest among all."
   ]
  },
  {
   "cell_type": "code",
   "execution_count": 30,
   "metadata": {},
   "outputs": [
    {
     "name": "stdout",
     "output_type": "stream",
     "text": [
      "[121, 179, 183, 116, 136, 113, 127, 172, 112, 148]\n",
      "112\n"
     ]
    }
   ],
   "source": [
    "import random\n",
    "ls = []\n",
    "for _ in range(10):\n",
    "     ls.append(random.randint(100, 200))\n",
    "\n",
    "print(ls)\n",
    "print(min(ls))"
   ]
  },
  {
   "cell_type": "markdown",
   "metadata": {},
   "source": [
    "Q13 Create a dictionary of 5 countries with their currency details and display them."
   ]
  },
  {
   "cell_type": "code",
   "execution_count": 33,
   "metadata": {},
   "outputs": [
    {
     "name": "stdout",
     "output_type": "stream",
     "text": [
      "India's currency is called Rupee\n",
      "U.S.A.'s currency is called Dollar\n",
      "U.K.'s currency is called Pound\n",
      "Switzerland's currency is called swiss Franc\n",
      "Japan's currency is called Yen\n",
      "Germany's currency is called Euro\n"
     ]
    }
   ],
   "source": [
    "countries = {\n",
    "    \"India\" : \"Rupee\",\n",
    "    \"U.S.A.\" : \"Dollar\",\n",
    "    \"U.K.\" : \"Pound\",\n",
    "    \"Switzerland\" : \"swiss Franc\",\n",
    "    \"Japan\" : \"Yen\",\n",
    "    \"Germany\" : \"Euro\"\n",
    "}\n",
    "\n",
    "for key,val in countries.items():\n",
    "    print(f'{key}\\'s currency is called {val}')"
   ]
  },
  {
   "cell_type": "markdown",
   "metadata": {},
   "source": [
    "Q14 Declare complex number , find data type, real part, imaginary part, complex conjugate, absolute value of a number"
   ]
  },
  {
   "cell_type": "code",
   "execution_count": 37,
   "metadata": {},
   "outputs": [
    {
     "name": "stdout",
     "output_type": "stream",
     "text": [
      "<class 'complex'>\n",
      "2.0\n",
      "1.0\n",
      "(2-1j)\n",
      "2.23606797749979\n"
     ]
    }
   ],
   "source": [
    "cplx = 2 + 1j\n",
    "print(type(cplx))\n",
    "print(cplx.real)\n",
    "print(cplx.imag)\n",
    "print(cplx.conjugate())\n",
    "print(abs(cplx))"
   ]
  },
  {
   "cell_type": "markdown",
   "metadata": {},
   "source": [
    "Q15 Change string hello to help ,remove white spaces before word if s=” hello ”"
   ]
  },
  {
   "cell_type": "code",
   "execution_count": 40,
   "metadata": {},
   "outputs": [
    {
     "name": "stdout",
     "output_type": "stream",
     "text": [
      "hello\n",
      "help\n",
      " Python is easy \n",
      "Python is easy\n"
     ]
    }
   ],
   "source": [
    "str = \"hello\"\n",
    "print(str)\n",
    "y = str.replace(\"lo\",\"p\")\n",
    "print(y)\n",
    "c = \" Python is easy \"\n",
    "print(c)\n",
    "print(c.strip())"
   ]
  },
  {
   "cell_type": "markdown",
   "metadata": {},
   "source": [
    "Q17 Swap first & last letter of a string"
   ]
  },
  {
   "cell_type": "code",
   "execution_count": 42,
   "metadata": {},
   "outputs": [
    {
     "name": "stdout",
     "output_type": "stream",
     "text": [
      "python\n",
      "nythop\n"
     ]
    }
   ],
   "source": [
    "str = input(\"Enter a string : \")\n",
    "print(str)\n",
    "new_str = str[-1:] + str[1:-1] + str[:1]\n",
    "print(new_str)"
   ]
  },
  {
   "cell_type": "markdown",
   "metadata": {},
   "source": [
    "Q18 Find if substring is present in string or not"
   ]
  },
  {
   "cell_type": "code",
   "execution_count": 45,
   "metadata": {},
   "outputs": [
    {
     "name": "stdout",
     "output_type": "stream",
     "text": [
      "substring present\n"
     ]
    }
   ],
   "source": [
    "str = \"substring\"\n",
    "\n",
    "if 'sub' in str:\n",
    "    print('substring present')\n",
    "else:\n",
    "    print('substring absent')"
   ]
  },
  {
   "cell_type": "markdown",
   "metadata": {},
   "source": [
    "Q20 WAPP to test whether string is palindrome or not"
   ]
  },
  {
   "cell_type": "code",
   "execution_count": 46,
   "metadata": {},
   "outputs": [
    {
     "name": "stdout",
     "output_type": "stream",
     "text": [
      "Yes\n"
     ]
    }
   ],
   "source": [
    "def isPalindrome(str):\n",
    "\n",
    "    for i in range(0, int(len(str)/2)):\n",
    "        if str[i] != str[len(str)-i-1]:\n",
    "            return False\n",
    "    return True\n",
    "\n",
    "s = \"radar\"\n",
    "ans = isPalindrome(s)\n",
    " \n",
    "if (ans):\n",
    "    print(\"Yes\")\n",
    "else:\n",
    "    print(\"No\")\n"
   ]
  },
  {
   "cell_type": "markdown",
   "metadata": {},
   "source": [
    "Q21 WAP to capitalize the first character of each words from a given sentence (example: all the best All The Best)"
   ]
  },
  {
   "cell_type": "code",
   "execution_count": 51,
   "metadata": {},
   "outputs": [
    {
     "name": "stdout",
     "output_type": "stream",
     "text": [
      "All The Best\n"
     ]
    }
   ],
   "source": [
    "str = \"all the best\"\n",
    "print(str.title())\n"
   ]
  },
  {
   "cell_type": "markdown",
   "metadata": {},
   "source": [
    "Q22 WAP to count the frequency of occurrence of a given character in a given line of text"
   ]
  },
  {
   "cell_type": "code",
   "execution_count": 55,
   "metadata": {},
   "outputs": [
    {
     "name": "stdout",
     "output_type": "stream",
     "text": [
      "Frequency of 'e' in \"sample sentence for given program\" is = 5\n"
     ]
    }
   ],
   "source": [
    "str = \"sample sentence for given program\"\n",
    "letter = input('Input letter whos frequency is to be counted: ')\n",
    "count = 0\n",
    "for word in str:\n",
    "    if(word == letter):\n",
    "        count+=1\n",
    "\n",
    "print(f'Frequency of \\'{letter}\\' in \\\"{str}\\\" is = {count}')"
   ]
  },
  {
   "cell_type": "markdown",
   "metadata": {},
   "source": [
    "Q23 Create a dictionary of 4 states with their capital details & add one more pair to the same"
   ]
  },
  {
   "cell_type": "code",
   "execution_count": 1,
   "metadata": {},
   "outputs": [
    {
     "name": "stdout",
     "output_type": "stream",
     "text": [
      "{'Maharashtra': 'Mumbai', 'Karnataka': 'Bengaluru', 'Tamil Nadu': 'Chennai', 'West Bengal': 'Kolkata'}\n",
      "{'Maharashtra': 'Mumbai', 'Karnataka': 'Bengaluru', 'Tamil Nadu': 'Chennai', 'West Bengal': 'Kolkata', 'Gujarat': 'Gandhinagar'}\n"
     ]
    }
   ],
   "source": [
    "states = {\n",
    "    'Maharashtra' : 'Mumbai',\n",
    "    'Karnataka' : 'Bengaluru',\n",
    "    'Tamil Nadu' : 'Chennai',\n",
    "    'West Bengal' : 'Kolkata'\n",
    "}\n",
    "print(states)\n",
    "states['Gujarat'] = 'Gandhinagar'\n",
    "print(states)"
   ]
  },
  {
   "cell_type": "markdown",
   "metadata": {},
   "source": [
    "Q24 To count number digits, special symbols from the given sentence. Also count number of vowels and consonants"
   ]
  },
  {
   "cell_type": "code",
   "execution_count": 3,
   "metadata": {},
   "outputs": [
    {
     "name": "stdout",
     "output_type": "stream",
     "text": [
      "Vowels: 2\n",
      "Consonant: 4\n",
      "Digit: 2\n",
      "Special Character: 2\n"
     ]
    }
   ],
   "source": [
    "def countCharacterType(str):\n",
    "    vowels = 0\n",
    "    consonant = 0\n",
    "    specialChar = 0\n",
    "    digit = 0\n",
    "\n",
    "    for i in range(0, len(str)):\n",
    "         \n",
    "        ch = str[i]\n",
    " \n",
    "        if ( (ch >= 'a' and ch <= 'z') or (ch >= 'A' and ch <= 'Z') ):\n",
    "            ch = ch.lower()\n",
    " \n",
    "            if (ch == 'a' or ch == 'e' or ch == 'i'\n",
    "                        or ch == 'o' or ch == 'u'):\n",
    "                vowels += 1\n",
    "            else:\n",
    "                consonant += 1\n",
    "         \n",
    "        elif (ch >= '0' and ch <= '9'):\n",
    "            digit += 1\n",
    "        else:\n",
    "            specialChar += 1\n",
    "     \n",
    "    print(\"Vowels:\", vowels)\n",
    "    print(\"Consonant:\", consonant)\n",
    "    print(\"Digit:\", digit)\n",
    "    print(\"Special Character:\", specialChar)\n",
    "str = \"sample12@$\"\n",
    "countCharacterType(str)"
   ]
  },
  {
   "cell_type": "markdown",
   "metadata": {},
   "source": [
    "Q25 Write a program to accept any string up to 15 characters. Display the elements of string with their element nos"
   ]
  },
  {
   "cell_type": "code",
   "execution_count": 5,
   "metadata": {},
   "outputs": [
    {
     "name": "stdout",
     "output_type": "stream",
     "text": [
      "Character at position 0 is s\n",
      "Character at position 1 is a\n",
      "Character at position 2 is m\n",
      "Character at position 3 is p\n",
      "Character at position 4 is l\n",
      "Character at position 5 is e\n",
      "Character at position 6 is  \n",
      "Character at position 7 is s\n",
      "Character at position 8 is t\n",
      "Character at position 9 is r\n",
      "Character at position 10 is i\n",
      "Character at position 11 is n\n",
      "Character at position 12 is g\n"
     ]
    }
   ],
   "source": [
    "str = input(\"Enter a string of not more than 15 characters: \")\n",
    "if(len(str)>15):\n",
    "    print(\"Enter a string with less characters\")\n",
    "else:\n",
    "    for i in range(len(str)):\n",
    "        print(f'Character at position {i} is {str[i]}')"
   ]
  },
  {
   "cell_type": "markdown",
   "metadata": {},
   "source": []
  }
 ],
 "metadata": {
  "kernelspec": {
   "display_name": "Python 3.9.7 ('base')",
   "language": "python",
   "name": "python3"
  },
  "language_info": {
   "codemirror_mode": {
    "name": "ipython",
    "version": 3
   },
   "file_extension": ".py",
   "mimetype": "text/x-python",
   "name": "python",
   "nbconvert_exporter": "python",
   "pygments_lexer": "ipython3",
   "version": "3.9.7"
  },
  "orig_nbformat": 4,
  "vscode": {
   "interpreter": {
    "hash": "0f5646505532b5ceed30599b8730b9c46ca6add009300086ae5479edfd3c892d"
   }
  }
 },
 "nbformat": 4,
 "nbformat_minor": 2
}
