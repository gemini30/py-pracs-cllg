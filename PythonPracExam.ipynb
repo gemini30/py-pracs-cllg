{
 "cells": [
  {
   "cell_type": "code",
   "execution_count": 28,
   "metadata": {},
   "outputs": [],
   "source": [
    "import matplotlib.pyplot as plt\n",
    "import numpy as np\n",
    "import pandas as pd\n",
    "import math"
   ]
  },
  {
   "cell_type": "markdown",
   "metadata": {},
   "source": [
    "Q1 Write a Python program to draw a scatter plot with empty circles taking a random distribution in X and Y and plotted against each other."
   ]
  },
  {
   "cell_type": "code",
   "execution_count": 81,
   "metadata": {},
   "outputs": [
    {
     "data": {
      "image/png": "[encoded data removed]",
      "text/plain": [
       "<Figure size 432x288 with 1 Axes>"
      ]
     },
     "metadata": {
      "needs_background": "light"
     },
     "output_type": "display_data"
    }
   ],
   "source": [
    "x = np.random.randn(50)\n",
    "y = np.random.randn(50)\n",
    "plt.scatter(x,y,s=50,facecolors ='darkorange',edgecolors='darkblue')\n",
    "plt.xlabel('X')\n",
    "plt.ylabel('Y')\n",
    "plt.show()"
   ]
  },
  {
   "cell_type": "markdown",
   "metadata": {},
   "source": [
    "Q2 Write a Python program to draw a scatter plot using random distributions to generate balls of different sizes."
   ]
  },
  {
   "cell_type": "code",
   "execution_count": 82,
   "metadata": {},
   "outputs": [
    {
     "data": {
      "image/png": "[encoded data removed]",
      "text/plain": [
       "<Figure size 432x288 with 1 Axes>"
      ]
     },
     "metadata": {
      "needs_background": "light"
     },
     "output_type": "display_data"
    }
   ],
   "source": [
    "x = np.random.randn(50)\n",
    "y = np.random.randn(50)\n",
    "z = math.pi*15*np.random.randn(50)**2\n",
    "plt.scatter(x,y,s=z,facecolors ='royalblue',edgecolors='darkorange')\n",
    "plt.xlabel('X')\n",
    "plt.ylabel('Y')\n",
    "plt.show()"
   ]
  },
  {
   "cell_type": "markdown",
   "metadata": {},
   "source": [
    "Q3"
   ]
  },
  {
   "cell_type": "code",
   "execution_count": null,
   "metadata": {},
   "outputs": [],
   "source": []
  },
  {
   "cell_type": "markdown",
   "metadata": {},
   "source": [
    "Q4 Write a Python script to concatenate following dictionaries to create a new one.\n",
    "Sample Dictionary :\n",
    "dic1={1:10, 2:20}\n",
    "dic2={3:30, 4:40}\n",
    "dic3={5:50,6:60}\n",
    "Expected Result : {1: 10, 2: 20, 3: 30, 4: 40, 5: 50, 6: 60}"
   ]
  },
  {
   "cell_type": "code",
   "execution_count": 2,
   "metadata": {},
   "outputs": [
    {
     "name": "stdout",
     "output_type": "stream",
     "text": [
      "{1: 10, 2: 20, 3: 30, 4: 40, 5: 50, 6: 60}\n"
     ]
    }
   ],
   "source": [
    "dic1 = {1:10,2:20}\n",
    "dic2 = {3:30,4:40}\n",
    "dic3 = {5:50,6:60}\n",
    "\n",
    "res = dict(dic1)\n",
    "res.update(dic2)\n",
    "res.update(dic3)\n",
    "print(res)"
   ]
  },
  {
   "cell_type": "markdown",
   "metadata": {},
   "source": [
    "Q5 Write a Python script to check whether a given key already exists in a dictionary."
   ]
  },
  {
   "cell_type": "code",
   "execution_count": 6,
   "metadata": {},
   "outputs": [
    {
     "name": "stdout",
     "output_type": "stream",
     "text": [
      "Yes, 'model' is one of the keys in the dictionary\n"
     ]
    }
   ],
   "source": [
    "thisdict = {\n",
    "\"brand\": \"Ford\",\n",
    "\"model\": \"Mustang\",\n",
    "\"year\": 1964\n",
    "}\n",
    "if \"model\" in thisdict:\n",
    "    print(\"Yes, 'model' is one of the keys in the dictionary\")\n",
    "else:\n",
    "    print('No such key present in the dictionary')"
   ]
  },
  {
   "cell_type": "markdown",
   "metadata": {},
   "source": [
    "Q6 Write a Python script to generate and print a dictionary that contains a number (between 1 and n) in the form (x, x*x).Sample Dictionary\n",
    "( n = 5) : Expected Output : {1: 1, 2: 4, 3: 9, 4: 16, 5: 25}"
   ]
  },
  {
   "cell_type": "code",
   "execution_count": 8,
   "metadata": {},
   "outputs": [
    {
     "name": "stdout",
     "output_type": "stream",
     "text": [
      "{1: 1, 2: 4, 3: 9, 4: 16, 5: 25, 6: 36, 7: 49}\n"
     ]
    }
   ],
   "source": [
    "n = int(input(\"Enter a number: \"))\n",
    "myDict = {}\n",
    "for i in range(1,n+1):\n",
    "    myDict[i] = i**2\n",
    "\n",
    "print(myDict)"
   ]
  },
  {
   "cell_type": "markdown",
   "metadata": {},
   "source": [
    "Q8 Write a Python program to map two lists into a dictionary."
   ]
  },
  {
   "cell_type": "code",
   "execution_count": 9,
   "metadata": {},
   "outputs": [
    {
     "name": "stdout",
     "output_type": "stream",
     "text": [
      "{'red': '#FF0000', 'green': '#008000', 'blue': '#0000FF'}\n"
     ]
    }
   ],
   "source": [
    "keys = ['red', 'green', 'blue']\n",
    "values = ['#FF0000','#008000', '#0000FF']\n",
    "color_dictionary = dict(zip(keys, values))\n",
    "print(color_dictionary)"
   ]
  },
  {
   "cell_type": "markdown",
   "metadata": {},
   "source": [
    "Q9 Write a Python program to print all unique values in a dictionary\n",
    "Sample Data : [{\"V\":\"S001\"}, {\"V\": \"S002\"}, {\"VI\": \"S001\"}, {\"VI\": \"S005\"}, {\"VII\":\"S005\"}, {\"V\":\"S009\"},{\"VIII\":\"S007\"}]\n",
    "Expected Output : Unique Values: {'S005', 'S002', 'S007', 'S001', 'S009'}"
   ]
  },
  {
   "cell_type": "code",
   "execution_count": 21,
   "metadata": {},
   "outputs": [
    {
     "name": "stdout",
     "output_type": "stream",
     "text": [
      "{'S007', 'S009', 'S001', 'S005', 'S002'}\n"
     ]
    }
   ],
   "source": [
    "DictData = [{\"V\":\"S001\"}, {\"V\": \"S002\"}, {\"VI\": \"S001\"}, {\"VI\": \"S005\"}, {\"VII\":\"S005\"}, {\"V\":\"S009\"},{\"VIII\":\"S007\"}]\n",
    "s = set({})\n",
    "for dic in DictData:\n",
    "    for val in dic.values():\n",
    "        s.add(val)\n",
    "print(s)\n"
   ]
  },
  {
   "cell_type": "markdown",
   "metadata": {},
   "source": [
    "Q7 Write a Python program to remove a key from a dictionary"
   ]
  },
  {
   "cell_type": "code",
   "execution_count": 22,
   "metadata": {},
   "outputs": [
    {
     "name": "stdout",
     "output_type": "stream",
     "text": [
      "{'x': 1, 'y': 2, 'z': 3}\n",
      "{'y': 2, 'z': 3}\n"
     ]
    }
   ],
   "source": [
    "removeDict = {\n",
    "    \"x\" : 1,\n",
    "    \"y\" : 2,\n",
    "    \"z\" : 3\n",
    "}\n",
    "print(removeDict)\n",
    "removeDict.pop(\"x\")\n",
    "print(removeDict)"
   ]
  },
  {
   "cell_type": "markdown",
   "metadata": {},
   "source": [
    "Q10 Write a Python program to create a dictionary from a string. Note: Track the count of the letters from the string."
   ]
  },
  {
   "cell_type": "code",
   "execution_count": 23,
   "metadata": {},
   "outputs": [
    {
     "name": "stdout",
     "output_type": "stream",
     "text": [
      "{'w': 1, '3': 1, 'r': 2, 'e': 2, 's': 1, 'o': 1, 'u': 1, 'c': 1}\n"
     ]
    }
   ],
   "source": [
    "from collections import defaultdict, Counter\n",
    "str1 = 'w3resource' \n",
    "my_dict = {}\n",
    "for letter in str1:\n",
    "    my_dict[letter] = my_dict.get(letter, 0) + 1\n",
    "print(my_dict)\n"
   ]
  },
  {
   "cell_type": "markdown",
   "metadata": {},
   "source": [
    "Q11 Write a program that takes a sentence as an input parameter where each word in the sentence is separated by a space. Then replace each\n",
    "blank with a hyphen and then print the modified sentence."
   ]
  },
  {
   "cell_type": "code",
   "execution_count": 26,
   "metadata": {},
   "outputs": [
    {
     "name": "stdout",
     "output_type": "stream",
     "text": [
      "this-is-a-sample-sentence\n"
     ]
    }
   ],
   "source": [
    "sentence = input(\"Enter a sentence: \")\n",
    "hyphenSentence = sentence.replace(\" \",\"-\")\n",
    "print(hyphenSentence)"
   ]
  },
  {
   "cell_type": "markdown",
   "metadata": {},
   "source": [
    "Q12 write a program to randomly select 10 integer elements from range 100 to 200 and find the smallest among all."
   ]
  },
  {
   "cell_type": "code",
   "execution_count": 30,
   "metadata": {},
   "outputs": [
    {
     "name": "stdout",
     "output_type": "stream",
     "text": [
      "[121, 179, 183, 116, 136, 113, 127, 172, 112, 148]\n",
      "112\n"
     ]
    }
   ],
   "source": [
    "import random\n",
    "ls = []\n",
    "for _ in range(10):\n",
    "     ls.append(random.randint(100, 200))\n",
    "\n",
    "print(ls)\n",
    "print(min(ls))"
   ]
  },
  {
   "cell_type": "markdown",
   "metadata": {},
   "source": [
    "Q13 Create a dictionary of 5 countries with their currency details and display them."
   ]
  },
  {
   "cell_type": "code",
   "execution_count": 33,
   "metadata": {},
   "outputs": [
    {
     "name": "stdout",
     "output_type": "stream",
     "text": [
      "India's currency is called Rupee\n",
      "U.S.A.'s currency is called Dollar\n",
      "U.K.'s currency is called Pound\n",
      "Switzerland's currency is called swiss Franc\n",
      "Japan's currency is called Yen\n",
      "Germany's currency is called Euro\n"
     ]
    }
   ],
   "source": [
    "countries = {\n",
    "    \"India\" : \"Rupee\",\n",
    "    \"U.S.A.\" : \"Dollar\",\n",
    "    \"U.K.\" : \"Pound\",\n",
    "    \"Switzerland\" : \"swiss Franc\",\n",
    "    \"Japan\" : \"Yen\",\n",
    "    \"Germany\" : \"Euro\"\n",
    "}\n",
    "\n",
    "for key,val in countries.items():\n",
    "    print(f'{key}\\'s currency is called {val}')"
   ]
  },
  {
   "cell_type": "markdown",
   "metadata": {},
   "source": [
    "Q14 Declare complex number , find data type, real part, imaginary part, complex conjugate, absolute value of a number"
   ]
  },
  {
   "cell_type": "code",
   "execution_count": 37,
   "metadata": {},
   "outputs": [
    {
     "name": "stdout",
     "output_type": "stream",
     "text": [
      "<class 'complex'>\n",
      "2.0\n",
      "1.0\n",
      "(2-1j)\n",
      "2.23606797749979\n"
     ]
    }
   ],
   "source": [
    "cplx = 2 + 1j\n",
    "print(type(cplx))\n",
    "print(cplx.real)\n",
    "print(cplx.imag)\n",
    "print(cplx.conjugate())\n",
    "print(abs(cplx))"
   ]
  },
  {
   "cell_type": "markdown",
   "metadata": {},
   "source": [
    "Q15 Change string hello to help ,remove white spaces before word if s=” hello ”"
   ]
  },
  {
   "cell_type": "code",
   "execution_count": 40,
   "metadata": {},
   "outputs": [
    {
     "name": "stdout",
     "output_type": "stream",
     "text": [
      "hello\n",
      "help\n",
      " Python is easy \n",
      "Python is easy\n"
     ]
    }
   ],
   "source": [
    "st = \"hello\"\n",
    "print(st)\n",
    "y = st.replace(\"lo\",\"p\")\n",
    "print(y)\n",
    "c = \" Python is easy \"\n",
    "print(c)\n",
    "print(c.strip())"
   ]
  },
  {
   "cell_type": "markdown",
   "metadata": {},
   "source": [
    "Q17 Swap first & last letter of a string"
   ]
  },
  {
   "cell_type": "code",
   "execution_count": 42,
   "metadata": {},
   "outputs": [
    {
     "name": "stdout",
     "output_type": "stream",
     "text": [
      "python\n",
      "nythop\n"
     ]
    }
   ],
   "source": [
    "st = input(\"Enter a string : \")\n",
    "print(st)\n",
    "new_str = st[-1:] + st[1:-1] + st[:1]\n",
    "print(new_str)"
   ]
  },
  {
   "cell_type": "markdown",
   "metadata": {},
   "source": [
    "Q18 Find if substring is present in string or not"
   ]
  },
  {
   "cell_type": "code",
   "execution_count": 45,
   "metadata": {},
   "outputs": [
    {
     "name": "stdout",
     "output_type": "stream",
     "text": [
      "substring present\n"
     ]
    }
   ],
   "source": [
    "st = \"substring\"\n",
    "\n",
    "if 'sub' in st:\n",
    "    print('substring present')\n",
    "else:\n",
    "    print('substring absent')"
   ]
  },
  {
   "cell_type": "markdown",
   "metadata": {},
   "source": [
    "Q20 WAPP to test whether string is palindrome or not"
   ]
  },
  {
   "cell_type": "code",
   "execution_count": 46,
   "metadata": {},
   "outputs": [
    {
     "name": "stdout",
     "output_type": "stream",
     "text": [
      "Yes\n"
     ]
    }
   ],
   "source": [
    "def isPalindrome(st):\n",
    "\n",
    "    for i in range(0, int(len(st)/2)):\n",
    "        if st[i] != st[len(st)-i-1]:\n",
    "            return False\n",
    "    return True\n",
    "\n",
    "s = \"radar\"\n",
    "ans = isPalindrome(s)\n",
    " \n",
    "if (ans):\n",
    "    print(\"Yes\")\n",
    "else:\n",
    "    print(\"No\")\n"
   ]
  },
  {
   "cell_type": "markdown",
   "metadata": {},
   "source": [
    "Q21 WAP to capitalize the first character of each words from a given sentence (example: all the best All The Best)"
   ]
  },
  {
   "cell_type": "code",
   "execution_count": 51,
   "metadata": {},
   "outputs": [
    {
     "name": "stdout",
     "output_type": "stream",
     "text": [
      "All The Best\n"
     ]
    }
   ],
   "source": [
    "st = \"all the best\"\n",
    "print(st.title())\n"
   ]
  },
  {
   "cell_type": "markdown",
   "metadata": {},
   "source": [
    "Q22 WAP to count the frequency of occurrence of a given character in a given line of text"
   ]
  },
  {
   "cell_type": "code",
   "execution_count": 55,
   "metadata": {},
   "outputs": [
    {
     "name": "stdout",
     "output_type": "stream",
     "text": [
      "Frequency of 'e' in \"sample sentence for given program\" is = 5\n"
     ]
    }
   ],
   "source": [
    "st = \"sample sentence for given program\"\n",
    "letter = input('Input letter whos frequency is to be counted: ')\n",
    "count = 0\n",
    "for word in st:\n",
    "    if(word == letter):\n",
    "        count+=1\n",
    "\n",
    "print(f'Frequency of \\'{letter}\\' in \\\"{st}\\\" is = {count}')"
   ]
  },
  {
   "cell_type": "markdown",
   "metadata": {},
   "source": [
    "Q23 Create a dictionary of 4 states with their capital details & add one more pair to the same"
   ]
  },
  {
   "cell_type": "code",
   "execution_count": 1,
   "metadata": {},
   "outputs": [
    {
     "name": "stdout",
     "output_type": "stream",
     "text": [
      "{'Maharashtra': 'Mumbai', 'Karnataka': 'Bengaluru', 'Tamil Nadu': 'Chennai', 'West Bengal': 'Kolkata'}\n",
      "{'Maharashtra': 'Mumbai', 'Karnataka': 'Bengaluru', 'Tamil Nadu': 'Chennai', 'West Bengal': 'Kolkata', 'Gujarat': 'Gandhinagar'}\n"
     ]
    }
   ],
   "source": [
    "states = {\n",
    "    'Maharashtra' : 'Mumbai',\n",
    "    'Karnataka' : 'Bengaluru',\n",
    "    'Tamil Nadu' : 'Chennai',\n",
    "    'West Bengal' : 'Kolkata'\n",
    "}\n",
    "print(states)\n",
    "states['Gujarat'] = 'Gandhinagar'\n",
    "print(states)"
   ]
  },
  {
   "cell_type": "markdown",
   "metadata": {},
   "source": [
    "Q24 To count number digits, special symbols from the given sentence. Also count number of vowels and consonants"
   ]
  },
  {
   "cell_type": "code",
   "execution_count": 3,
   "metadata": {},
   "outputs": [
    {
     "name": "stdout",
     "output_type": "stream",
     "text": [
      "Vowels: 2\n",
      "Consonant: 4\n",
      "Digit: 2\n",
      "Special Character: 2\n"
     ]
    }
   ],
   "source": [
    "def countCharacterType(st):\n",
    "    vowels = 0\n",
    "    consonant = 0\n",
    "    specialChar = 0\n",
    "    digit = 0\n",
    "\n",
    "    for i in range(0, len(st)):\n",
    "         \n",
    "        ch = st[i]\n",
    " \n",
    "        if ( (ch >= 'a' and ch <= 'z') or (ch >= 'A' and ch <= 'Z') ):\n",
    "            ch = ch.lower()\n",
    " \n",
    "            if (ch == 'a' or ch == 'e' or ch == 'i'\n",
    "                        or ch == 'o' or ch == 'u'):\n",
    "                vowels += 1\n",
    "            else:\n",
    "                consonant += 1\n",
    "         \n",
    "        elif (ch >= '0' and ch <= '9'):\n",
    "            digit += 1\n",
    "        else:\n",
    "            specialChar += 1\n",
    "     \n",
    "    print(\"Vowels:\", vowels)\n",
    "    print(\"Consonant:\", consonant)\n",
    "    print(\"Digit:\", digit)\n",
    "    print(\"Special Character:\", specialChar)\n",
    "st = \"sample12@$\"\n",
    "countCharacterType(st)"
   ]
  },
  {
   "cell_type": "markdown",
   "metadata": {},
   "source": [
    "Q25 Write a program to accept any string up to 15 characters. Display the elements of string with their element nos"
   ]
  },
  {
   "cell_type": "code",
   "execution_count": 5,
   "metadata": {},
   "outputs": [
    {
     "name": "stdout",
     "output_type": "stream",
     "text": [
      "Character at position 0 is s\n",
      "Character at position 1 is a\n",
      "Character at position 2 is m\n",
      "Character at position 3 is p\n",
      "Character at position 4 is l\n",
      "Character at position 5 is e\n",
      "Character at position 6 is  \n",
      "Character at position 7 is s\n",
      "Character at position 8 is t\n",
      "Character at position 9 is r\n",
      "Character at position 10 is i\n",
      "Character at position 11 is n\n",
      "Character at position 12 is g\n"
     ]
    }
   ],
   "source": [
    "st = input(\"Enter a string of not more than 15 characters: \")\n",
    "if(len(st)>15):\n",
    "    print(\"Enter a string with less characters\")\n",
    "else:\n",
    "    for i in range(len(st)):\n",
    "        print(f'Character at position {i} is {st[i]}')"
   ]
  },
  {
   "cell_type": "markdown",
   "metadata": {},
   "source": [
    "Q26 Create a Numpy array filled with all ones"
   ]
  },
  {
   "cell_type": "code",
   "execution_count": 3,
   "metadata": {},
   "outputs": [
    {
     "name": "stdout",
     "output_type": "stream",
     "text": [
      "[[1. 1. 1.]\n",
      " [1. 1. 1.]]\n"
     ]
    }
   ],
   "source": [
    "import numpy as np\n",
    "\n",
    "one = np.ones((2,3))\n",
    "print(one)"
   ]
  },
  {
   "cell_type": "markdown",
   "metadata": {},
   "source": [
    "Q27 Check whether a Numpy array contains a specified row"
   ]
  },
  {
   "cell_type": "code",
   "execution_count": 8,
   "metadata": {},
   "outputs": [
    {
     "name": "stdout",
     "output_type": "stream",
     "text": [
      "False\n",
      "True\n"
     ]
    }
   ],
   "source": [
    "arr = np.array([[1,2,3,4],[5,6,7,8],[9,10,11,12]])\n",
    "print([1,2,4,3] in arr.tolist())\n",
    "print([1,2,3,4] in arr.tolist())"
   ]
  },
  {
   "cell_type": "markdown",
   "metadata": {},
   "source": [
    "Q28 Compute mathematical operations on Array, Add & Multiply two matrices"
   ]
  },
  {
   "cell_type": "code",
   "execution_count": 9,
   "metadata": {},
   "outputs": [
    {
     "name": "stdout",
     "output_type": "stream",
     "text": [
      "[[1. 2.]\n",
      " [3. 4.]]\n",
      "[[5. 6.]\n",
      " [7. 8.]]\n",
      "\n",
      "Addition:\n",
      "[[ 6.  8.]\n",
      " [10. 12.]]\n",
      "\n",
      "Multiplication:\n",
      "[[ 5. 12.]\n",
      " [21. 32.]]\n"
     ]
    }
   ],
   "source": [
    "x = np.array([[1,2],[3,4]],dtype = np.float64)\n",
    "y = np.array([[5,6],[7,8]],dtype = np.float64)\n",
    "\n",
    "print(x)\n",
    "print(y)\n",
    "print(f'\\nAddition:\\n{np.add(x,y)}')\n",
    "print(f'\\nMultiplication:\\n{np.multiply(x,y)}')"
   ]
  },
  {
   "cell_type": "markdown",
   "metadata": {},
   "source": [
    "Q29 Find the most frequent value in a NumPy array"
   ]
  },
  {
   "cell_type": "code",
   "execution_count": 12,
   "metadata": {},
   "outputs": [
    {
     "name": "stdout",
     "output_type": "stream",
     "text": [
      "Original array:\n",
      "[1 1 1 2 3 4 2 4 3 3]\n",
      "Most frequent value in above array\n",
      "1 3 "
     ]
    }
   ],
   "source": [
    "x = np.array([1, 1, 1, 2, 3, 4, 2, 4, 3, 3, ])\n",
    "print(\"Original array:\")\n",
    "print(x)\n",
    "print(\"Most frequent value in above array\")\n",
    "y = np.bincount(x)\n",
    "\n",
    "maximum = max(y)\n",
    "for i in range(len(y)):\n",
    "    if y[i] == maximum:\n",
    "        print(i, end=\" \")\n"
   ]
  },
  {
   "cell_type": "markdown",
   "metadata": {},
   "source": [
    "Q30 Flatten a 2d numpy array into 1d array"
   ]
  },
  {
   "cell_type": "code",
   "execution_count": 15,
   "metadata": {},
   "outputs": [
    {
     "name": "stdout",
     "output_type": "stream",
     "text": [
      "Original array: [[1 2 3]\n",
      " [2 4 5]\n",
      " [1 2 3]]\n",
      "Flattened array: [1 2 3 2 4 5 1 2 3]\n"
     ]
    }
   ],
   "source": [
    "arr1 = np.array([[1, 2, 3], [2, 4, 5], [1, 2, 3]])\n",
    "\n",
    "print(f\"Original array: {arr1}\")\n",
    "\n",
    "# Multiplying arrays\n",
    "flatArr =arr1.flatten()\n",
    "\n",
    "# printing result\n",
    "print(f\"Flattened array: {flatArr}\")\n"
   ]
  },
  {
   "cell_type": "markdown",
   "metadata": {},
   "source": [
    "Q31 Calculate the sum of all columns in a 2D NumPy array"
   ]
  },
  {
   "cell_type": "code",
   "execution_count": 16,
   "metadata": {},
   "outputs": [
    {
     "name": "stdout",
     "output_type": "stream",
     "text": [
      "[[1. 2.]\n",
      " [3. 4.]]\n",
      "10.0\n",
      "[4. 6.]\n",
      "[3. 7.]\n"
     ]
    }
   ],
   "source": [
    "x = np.array([[1,2],[3,4]],dtype = np.float64)\n",
    "print(x)\n",
    "print(np.sum(x))\n",
    "#sum of col\n",
    "print(np.sum(x,axis =0))\n",
    "# #sum of row\n",
    "print(np.sum(x,axis =1))"
   ]
  },
  {
   "cell_type": "markdown",
   "metadata": {},
   "source": [
    "Q32 Calculate the average, variance and standard deviation in Python using NumPy"
   ]
  },
  {
   "cell_type": "code",
   "execution_count": 17,
   "metadata": {},
   "outputs": [
    {
     "name": "stdout",
     "output_type": "stream",
     "text": [
      "[[2 4 4 4]\n",
      " [5 5 7 9]]\n",
      "\n",
      "Average:5.0\n",
      "Variance:4.0\n",
      "Standard Deviation:2.0\n"
     ]
    }
   ],
   "source": [
    "arr = np.array([[2,4,4,4],[5,5,7,9]])\n",
    "print(arr)\n",
    "print(f'\\nAverage:{np.average(arr)}')\n",
    "print(f'Variance:{np.var(arr)}')\n",
    "print(f'Standard Deviation:{np.std(arr)}')"
   ]
  },
  {
   "cell_type": "markdown",
   "metadata": {},
   "source": [
    "Q33 Insert a space between characters of all the elements of a given NumPy array ['Python' 'is' 'easy'] ['P y t h o n' 'i s' 'e a s y']"
   ]
  },
  {
   "cell_type": "code",
   "execution_count": 18,
   "metadata": {},
   "outputs": [
    {
     "name": "stdout",
     "output_type": "stream",
     "text": [
      "Printing the Original Array:\n",
      "['Python' 'is' 'easy']\n",
      "\n",
      "Printing the array after inserting space between the elements\n",
      "['P y t h o n' 'i s' 'e a s y']\n"
     ]
    }
   ],
   "source": [
    "x = np.array(['Python','is','easy'],dtype=np.str_)\n",
    "print(\"Printing the Original Array:\")\n",
    "print(x)\n",
    "spaced = np.char.join(' ',x)\n",
    "print(\"\\nPrinting the array after inserting space between the elements\")\n",
    "print(spaced)"
   ]
  },
  {
   "cell_type": "markdown",
   "metadata": {},
   "source": [
    "Q34 Plot line graph from NumPy array"
   ]
  },
  {
   "cell_type": "code",
   "execution_count": 21,
   "metadata": {},
   "outputs": [
    {
     "data": {
      "image/png": "[encoded data removed]",
      "text/plain": [
       "<Figure size 432x288 with 1 Axes>"
      ]
     },
     "metadata": {
      "needs_background": "light"
     },
     "output_type": "display_data"
    }
   ],
   "source": [
    "import matplotlib.pyplot as plt\n",
    "# data to be plotted\n",
    "x = np.arange(1,11)\n",
    "y = x * x\n",
    "# plotting\n",
    "plt.title(\"Line graph\")\n",
    "plt.xlabel(\"X axis\")\n",
    "plt.ylabel(\"Y axis\")\n",
    "plt.plot(x,y,color =\"royalblue\")\n",
    "plt.show()"
   ]
  },
  {
   "cell_type": "markdown",
   "metadata": {},
   "source": [
    "Q35 WAP to Reverse a Number"
   ]
  },
  {
   "cell_type": "code",
   "execution_count": 23,
   "metadata": {},
   "outputs": [
    {
     "name": "stdout",
     "output_type": "stream",
     "text": [
      "Reverse of 1234 = 4321\n"
     ]
    }
   ],
   "source": [
    "num = int(input(\"Enter a number to be reversed: \"))\n",
    "revNum = 0\n",
    "ogNum = num\n",
    "while num>0:\n",
    "    revNum = revNum*10 + num%10\n",
    "    num//=10\n",
    "print(f\"Reverse of {ogNum} = {revNum}\")"
   ]
  },
  {
   "cell_type": "markdown",
   "metadata": {},
   "source": [
    "Q36 WAP to read number N and print natural numbers summation pattern"
   ]
  },
  {
   "cell_type": "code",
   "execution_count": 29,
   "metadata": {},
   "outputs": [
    {
     "name": "stdout",
     "output_type": "stream",
     "text": [
      "1 = 1\n",
      "1 + 2 = 3\n",
      "1 + 2 + 3 = 6\n",
      "1 + 2 + 3 + 4 = 10\n",
      "1 + 2 + 3 + 4 + 5 = 15\n",
      "1 + 2 + 3 + 4 + 5 + 6 = 21\n"
     ]
    }
   ],
   "source": [
    "number =int(input(\"Enter the Natural Number: \"))\n",
    "for j in range(1,number+1):\n",
    "    a =[]\n",
    "    for i in range ( 1 , j+ 1 ):\n",
    "        print(i,sep=\" \",end=\" \")\n",
    "        if(i < j):\n",
    "            print(\"+\",sep=\" \",end=\" \")\n",
    "        a.append(i)\n",
    "    print(\"=\",sum(a))"
   ]
  },
  {
   "cell_type": "markdown",
   "metadata": {},
   "source": [
    "Q37 WAP to determine all Pythagorean triplets"
   ]
  },
  {
   "cell_type": "code",
   "execution_count": 1,
   "metadata": {},
   "outputs": [
    {
     "name": "stdout",
     "output_type": "stream",
     "text": [
      "3 4 5\n",
      "8 6 10\n",
      "5 12 13\n",
      "15 8 17\n",
      "12 16 20\n",
      "7 24 25\n"
     ]
    }
   ],
   "source": [
    "num=int(input(\"Enter range: \"))\n",
    "c=0\n",
    "m=2\n",
    "while(c<num):\n",
    "    for n in range ( 1 , m+ 1 ):\n",
    "        a=m*m-n*n\n",
    "        b= 2*m*n\n",
    "        c=m*m+n*n\n",
    "        if(c>num):\n",
    "            break\n",
    "        if ( a== 0 or b== 0 or c== 0 ):\n",
    "            break\n",
    "        print(a,b,c)\n",
    "    m+=1"
   ]
  },
  {
   "cell_type": "markdown",
   "metadata": {},
   "source": [
    "Q38 WAP, You are given a number A which contains only digits 0's and 1's. Your task is to make all digits same by just flipping one digit (i.e.\n",
    "0 to 1 or 1 to 0 ) only. If it is possible to make all the digits same by just flipping one digit then print 'YES' else print 'NO'."
   ]
  },
  {
   "cell_type": "code",
   "execution_count": 19,
   "metadata": {},
   "outputs": [
    {
     "name": "stdout",
     "output_type": "stream",
     "text": [
      "Yes\n"
     ]
    }
   ],
   "source": [
    "n = input ( 'Enter number: ' )\n",
    "zCount = 0\n",
    "oCount = 0\n",
    "for i in n :\n",
    "# print(i)\n",
    "    if i == '0' : \n",
    "        zCount+= 1\n",
    "    else:\n",
    "        oCount+=1\n",
    "if (zCount == 1 or oCount == 1 or zCount == 0 or oCount == 0) :\n",
    "    print('Yes')\n",
    "else:\n",
    "    print('No')"
   ]
  },
  {
   "cell_type": "markdown",
   "metadata": {},
   "source": [
    "Q39 Given a list A of N distinct integer numbers, you can sort the list by moving an element to the end of the list. Find the minimum number\n",
    "of moves required to sort the list using this method in ascending order"
   ]
  },
  {
   "cell_type": "code",
   "execution_count": 20,
   "metadata": {},
   "outputs": [
    {
     "name": "stdout",
     "output_type": "stream",
     "text": [
      "5 moves are required\n"
     ]
    }
   ],
   "source": [
    "# ls = [1,3,2,4,5]\n",
    "ls = [1,3,2,4,6,5]\n",
    "c=0\n",
    "i=0\n",
    "while i < len(ls)-1:\n",
    "    min=ls[i]\n",
    "    for x in range(i+1, len(ls)):\n",
    "      # check if all elements after ith one are greater than itself\n",
    "        val=ls[x]\n",
    "        if val < min:\n",
    "           break\n",
    "    # Move greater element to rear\n",
    "    if val < min:\n",
    "        ls.remove(min) \n",
    "        ls.append(min)\n",
    "        c+=1\n",
    "    else:\n",
    "        i+=1\n",
    "print(f'{c} moves are required')\n"
   ]
  },
  {
   "cell_type": "markdown",
   "metadata": {},
   "source": [
    "Q40 WAP to print following pattern\n",
    "1\\n\n",
    "22\\n\n",
    "333\\n\n",
    "4444\\n\n",
    "55555\\n\n",
    "666666"
   ]
  },
  {
   "cell_type": "code",
   "execution_count": 16,
   "metadata": {},
   "outputs": [
    {
     "name": "stdout",
     "output_type": "stream",
     "text": [
      "1                     1 \n",
      "2 2                 2 2 \n",
      "3 3 3             3 3 3 \n",
      "4 4 4 4         4 4 4 4 \n",
      "5 5 5 5 5     5 5 5 5 5 \n",
      "6 6 6 6 6 6 6 6 6 6 6 6 \n"
     ]
    }
   ],
   "source": [
    "n = int(input('Enter a number'))\n",
    "\n",
    "for i in range(1,n+1):\n",
    "    for j in range(1,2*n+1):\n",
    "        if(j<=i or j>2*n-i):\n",
    "            print(i,end=\" \")\n",
    "        else:\n",
    "            print(\" \",end=\" \")    \n",
    "    print()   "
   ]
  },
  {
   "cell_type": "markdown",
   "metadata": {},
   "source": [
    "Q41 Convert two lists into a dictionary"
   ]
  },
  {
   "cell_type": "code",
   "execution_count": 18,
   "metadata": {},
   "outputs": [
    {
     "name": "stdout",
     "output_type": "stream",
     "text": [
      "{1: 'one', 2: 'two', 3: 'three', 4: 'four', 5: 'five'}\n",
      "{1: 'one', 2: 'two', 3: 'three', 4: 'four', 5: 'five'}\n"
     ]
    }
   ],
   "source": [
    "ls1 = [1,2,3,4,5]\n",
    "ls2 = ['one','two','three','four','five']\n",
    "lsDict = {}\n",
    "for i in range(len(ls1)):\n",
    "    lsDict[ls1[i]] = ls2[i]\n",
    "\n",
    "print(lsDict)\n",
    "\n",
    "# OR USE ZIP FUNCTION\n",
    "\n",
    "zipDict = dict(zip(ls1,ls2))\n",
    "print(zipDict)\n"
   ]
  },
  {
   "cell_type": "markdown",
   "metadata": {},
   "source": [
    "Q42 Check how many times a given number can be divided by 6 before it is less than or equal to 10."
   ]
  },
  {
   "cell_type": "code",
   "execution_count": 22,
   "metadata": {},
   "outputs": [
    {
     "name": "stdout",
     "output_type": "stream",
     "text": [
      "3\n"
     ]
    }
   ],
   "source": [
    "n = int(input(\"Enter a number: \"))\n",
    "count = 0 \n",
    "while(n>=10):\n",
    "  n/=6\n",
    "  count+=1\n",
    "\n",
    "print(count)"
   ]
  },
  {
   "cell_type": "markdown",
   "metadata": {},
   "source": [
    "Q43 Python program to read a file and Capitalize the first letter of every word in the file"
   ]
  },
  {
   "cell_type": "code",
   "execution_count": 30,
   "metadata": {},
   "outputs": [
    {
     "name": "stdout",
     "output_type": "stream",
     "text": [
      "1) This Is A Test File\n",
      "2) With Multiple Lines Of Data...\n",
      "3) Third Line\n",
      "4) Fourth Line\n",
      "5) Fifth Line\n",
      "6) Sixth Line\n",
      "7) Seventh Line\n",
      "8) Eighth Line\n",
      "9) Ninth Line\n",
      "10) Tenth Line"
     ]
    }
   ],
   "source": [
    "with open('text.txt','r+') as f:\n",
    "    for line in f:\n",
    "        print(line.title(),end='')"
   ]
  },
  {
   "cell_type": "markdown",
   "metadata": {},
   "source": [
    "Q44 Python program that reads a text file and counts number of times certain letter appears in the text file"
   ]
  },
  {
   "cell_type": "code",
   "execution_count": 33,
   "metadata": {},
   "outputs": [
    {
     "name": "stdout",
     "output_type": "stream",
     "text": [
      "{'T': 3, 'h': 11, 'i': 19, 's': 4, 'a': 3, 't': 12, 'e': 15, 'f': 3, 'l': 12, 'W': 1, 'm': 1, 'u': 2, 'p': 1, 'n': 12, 'o': 2, 'd': 2, 'r': 2, 'F': 2, 'S': 2, 'x': 1, 'v': 1, 'E': 1, 'g': 1, 'N': 1}\n"
     ]
    }
   ],
   "source": [
    "with open('text.txt','r+') as f:\n",
    "    letter = {}\n",
    "    for line in f:\n",
    "        for ch in line:\n",
    "            if ( (ch >= 'a' and ch <= 'z') or (ch >= 'A' and ch <= 'Z') ):\n",
    "                letter[ch] = letter.get(ch,0)+1\n",
    "    print(letter)"
   ]
  },
  {
   "cell_type": "markdown",
   "metadata": {},
   "source": [
    "Q45 Write a program to write content to file & append data to file"
   ]
  },
  {
   "cell_type": "code",
   "execution_count": 39,
   "metadata": {},
   "outputs": [
    {
     "name": "stdout",
     "output_type": "stream",
     "text": [
      "1) This is a test file\n",
      "2) With multiple lines of data...\n",
      "3) Third line\n",
      "4) Fourth line\n",
      "5) Fifth line\n",
      "6) Sixth line\n",
      "7) Seventh line\n",
      "8) Eighth line\n",
      "9) Ninth line\n",
      "10) Tenth line\n",
      "11) Eleventh line\n",
      "12) Twelveth line\n"
     ]
    }
   ],
   "source": [
    "with open('text.txt','a') as f:\n",
    "    f.write('11) Eleventh line')\n",
    "\n",
    "with open('text.txt','r') as f:\n",
    "    print(f.read())\n",
    "\n",
    "# with open('text.txt','w') as f:\n",
    "#     f.write('12) Twelveth line')\n",
    "# with open('text.txt','r') as f:\n",
    "#     print(f.read())"
   ]
  },
  {
   "cell_type": "markdown",
   "metadata": {},
   "source": [
    "Q46 Python program to read the contents of a file"
   ]
  },
  {
   "cell_type": "code",
   "execution_count": null,
   "metadata": {},
   "outputs": [],
   "source": [
    "with open('text.txt','r') as f:\n",
    "    print(f.read())"
   ]
  },
  {
   "cell_type": "markdown",
   "metadata": {},
   "source": [
    "Q47 Copy the contents from one file to another "
   ]
  },
  {
   "cell_type": "code",
   "execution_count": 40,
   "metadata": {},
   "outputs": [],
   "source": [
    "with open(\"text.txt\", \"r\") as rf:\n",
    "\twith open(\"test_copy.txt\", \"w\") as wf:\n",
    "\t\tfor line in rf:\n",
    "\t\t\twf.write(line)"
   ]
  },
  {
   "cell_type": "markdown",
   "metadata": {},
   "source": [
    "Q48 WAP to accept name and roll number of students and store it in file. Read and display the stored data. Also check if file exists or not"
   ]
  },
  {
   "cell_type": "code",
   "execution_count": 45,
   "metadata": {},
   "outputs": [
    {
     "name": "stdout",
     "output_type": "stream",
     "text": [
      "True\n",
      "Jash : 60003200105\n",
      "\n",
      "\n"
     ]
    }
   ],
   "source": [
    "import os\n",
    "path = 'students.txt'\n",
    "isExist = os.path.exists(path)\n",
    "print(isExist)\n",
    "n = int(input('Enter number of students: '))\n",
    "with open('students.txt','a') as f:\n",
    "    for i in range(0,n):\n",
    "        name = input('enter name of student: ')\n",
    "        roll = input('enter roll no. of student: ')\n",
    "        f.write(f'{name} : {roll}\\n')\n",
    "\n",
    "with open('students.txt','r') as f:\n",
    "    print(f.read())\n",
    "\n"
   ]
  },
  {
   "cell_type": "markdown",
   "metadata": {},
   "source": [
    "Q49 WAP to copy contents of 1 file to another Let user specify name of source and destination files"
   ]
  },
  {
   "cell_type": "code",
   "execution_count": null,
   "metadata": {},
   "outputs": [],
   "source": [
    "f1 = input('Enter loc of file 1')\n",
    "f2 = input('Enter loc of file 2')\n",
    "\n",
    "with open(f1, \"r\") as rf:\n",
    "\twith open(f2, \"w\") as wf:\n",
    "\t\tfor line in rf:\n",
    "\t\t\twf.write(line)"
   ]
  },
  {
   "cell_type": "markdown",
   "metadata": {},
   "source": [
    "Q50 Python program to read file word by word"
   ]
  },
  {
   "cell_type": "code",
   "execution_count": 50,
   "metadata": {},
   "outputs": [
    {
     "name": "stdout",
     "output_type": "stream",
     "text": [
      "Jash\n",
      ":\n",
      "60003200105\n"
     ]
    }
   ],
   "source": [
    "\n",
    "with open('students.txt','r') as file:\n",
    "\t# reading each line\t\n",
    "\tfor line in file:\n",
    "\t\t# reading each word\t\t\n",
    "\t\tfor word in line.split():\t\t\n",
    "\t\t\tprint(word)\n"
   ]
  },
  {
   "cell_type": "markdown",
   "metadata": {},
   "source": [
    "Q51 Python program to read character by character from a file"
   ]
  },
  {
   "cell_type": "code",
   "execution_count": 47,
   "metadata": {},
   "outputs": [
    {
     "name": "stdout",
     "output_type": "stream",
     "text": [
      "J\n",
      "a\n",
      "s\n",
      "h\n",
      " \n",
      ":\n",
      " \n",
      "6\n",
      "0\n",
      "0\n",
      "0\n",
      "3\n",
      "2\n",
      "0\n",
      "0\n",
      "1\n",
      "0\n",
      "5\n",
      "\n",
      "\n",
      "\n",
      "\n"
     ]
    }
   ],
   "source": [
    "with open('students.txt','r') as file:\n",
    "    while 1:\n",
    "        # read by character\n",
    "        char = file.read(1)\t\t\n",
    "        if not char:\n",
    "            break\t\n",
    "        print(char)\n",
    "\n"
   ]
  },
  {
   "cell_type": "markdown",
   "metadata": {},
   "source": [
    "Q52 Python – Get number of characters, words, spaces and lines in a file"
   ]
  },
  {
   "cell_type": "code",
   "execution_count": 58,
   "metadata": {},
   "outputs": [
    {
     "name": "stdout",
     "output_type": "stream",
     "text": [
      "Number of lines in the file: 10\n",
      "Number of words in the file: 36\n",
      "Number of characters in the file: 148\n",
      "Number of spaces in the file: 26\n"
     ]
    }
   ],
   "source": [
    "with open(\"text.txt\", \"r\") as f:\n",
    "    chars=0\n",
    "    words = 0\n",
    "    lines = 0 \n",
    "    space= 0\n",
    "    for line in f:\n",
    "        wordslist = line.split(\" \")\n",
    "        words+=len(wordslist)\n",
    "        lines+=1\n",
    "        for char in line:\n",
    "            if(char!=' '):\n",
    "                chars+=1\n",
    "            else:\n",
    "                space+=1\n",
    "    print(f'Number of lines in the file: {lines}')\n",
    "    print(f'Number of words in the file: {words}')\n",
    "    print(f'Number of characters in the file: {chars}')\n",
    "    print(f'Number of spaces in the file: {space}')"
   ]
  },
  {
   "cell_type": "markdown",
   "metadata": {},
   "source": [
    "Q53 Make your exception class “InvalidMarks” which is thrown when marks obtained by student exceeds 100"
   ]
  },
  {
   "cell_type": "code",
   "execution_count": 64,
   "metadata": {},
   "outputs": [
    {
     "name": "stdout",
     "output_type": "stream",
     "text": [
      "You entered 120 as your marks...Please enter marks below 100\n",
      "You entered 500 as your marks...Please enter marks below 100\n",
      "You entered 130 as your marks...Please enter marks below 100\n",
      "Marks = 50\n"
     ]
    }
   ],
   "source": [
    "class InvalidMarks(Exception):\n",
    "    pass\n",
    "while True:\n",
    "    try:\n",
    "        marks = int(input(\"Enter your marks\"))\n",
    "        if marks > 100:\n",
    "            raise InvalidMarks\n",
    "        else:\n",
    "            print(f'Marks = {marks}')\n",
    "            break\n",
    "    except InvalidMarks:\n",
    "        print(f\"You entered {marks} as your marks...Please enter marks below 100\")"
   ]
  },
  {
   "cell_type": "markdown",
   "metadata": {},
   "source": [
    "Q54 WAP that accepts the values of a, b, c and d. Calculate and display ((a+d) + (b*c))/ (b*d). create user defined exception to display proper\n",
    "message when value of (b*d) is zero"
   ]
  },
  {
   "cell_type": "code",
   "execution_count": null,
   "metadata": {},
   "outputs": [],
   "source": [
    "class ZeroDivisionError(Exception):\n",
    "    pass\n",
    "a = 1\n",
    "b= 2\n",
    "c = 3\n",
    "d = 0\n",
    "try:\n",
    "    if b*d == 0:\n",
    "        raise ZeroDivisionError\n",
    "    ans =  ((a+d) + (b*c))/ (b*d)\n",
    "    print(ans)\n",
    "except ZeroDivisionError:\n",
    "    print(\"b*d ie the denominator turns out to be 0\")"
   ]
  },
  {
   "cell_type": "markdown",
   "metadata": {},
   "source": [
    "Q55 Ask user to input an age. Raise an exception for age less than 18 , print message “ age is not valid ” & “age is valid ” if age entered is\n",
    "more than 18"
   ]
  },
  {
   "cell_type": "code",
   "execution_count": 67,
   "metadata": {},
   "outputs": [
    {
     "name": "stdout",
     "output_type": "stream",
     "text": [
      "age is invalid\n"
     ]
    }
   ],
   "source": [
    "class ageValidation(Exception):\n",
    "    pass\n",
    "try:\n",
    "    age = int(input('Enter age: '))\n",
    "    if(age<18):\n",
    "        raise ageValidation\n",
    "    print('age is valid')\n",
    "except ageValidation:\n",
    "    print('age is invalid')\n"
   ]
  },
  {
   "cell_type": "markdown",
   "metadata": {},
   "source": [
    "Q56 Handle the FileNotFoundError exception"
   ]
  },
  {
   "cell_type": "code",
   "execution_count": 68,
   "metadata": {},
   "outputs": [
    {
     "name": "stdout",
     "output_type": "stream",
     "text": [
      "File not found\n"
     ]
    }
   ],
   "source": [
    "try:\n",
    "    f = open(\"nonExistent.txt\",'r')\n",
    "except FileNotFoundError:\n",
    "    print(\"File not found\")"
   ]
  },
  {
   "cell_type": "markdown",
   "metadata": {},
   "source": [
    "Q57 Raise a TypeError if x is not a string "
   ]
  },
  {
   "cell_type": "code",
   "execution_count": 83,
   "metadata": {},
   "outputs": [
    {
     "name": "stdout",
     "output_type": "stream",
     "text": [
      "Enter a string\n"
     ]
    }
   ],
   "source": [
    "x = 12\n",
    "try:\n",
    "    if not (type(x)== str):\n",
    "        raise TypeError\n",
    "except TypeError:\n",
    "    print(\"Enter a string\")"
   ]
  },
  {
   "cell_type": "markdown",
   "metadata": {},
   "source": [
    "Q58 Create class Complex , define two methods init to take real & imaginary number & method add to add real & imaginary part of complex\n",
    "number . print addition of real part & addition of imaginary part."
   ]
  },
  {
   "cell_type": "code",
   "execution_count": 10,
   "metadata": {},
   "outputs": [
    {
     "name": "stdout",
     "output_type": "stream",
     "text": [
      "13 + j16\n"
     ]
    }
   ],
   "source": [
    "class Complex:\n",
    "  def __init__(self,real,img):\n",
    "      self.real = real\n",
    "      self.img = img\n",
    "\n",
    "  def add(self,c1,c2):\n",
    "    temp=Complex(0, 0)\n",
    "    temp.real = c1.real+c2.real\n",
    "    temp.img = c1.img + c2.img\n",
    "    print(f'{temp.real} + j{temp.img}')\n",
    "\n",
    "c1 = Complex(12,13)\n",
    "\n",
    "c2 = Complex(1,3)\n",
    "\n",
    "c3 = Complex(0,0)\n",
    "c3 = c3.add(c1,c2)"
   ]
  },
  {
   "cell_type": "markdown",
   "metadata": {},
   "source": [
    "Q59 Create class Triangle, Create object from it . The objects will have 3 attributes named a,b,c that represent sides of triangle .Triangle class\n",
    "will have two methods init method to initialize the sides & method to calculate perimeter of triangle from its sides . Perimeter of triangle\n",
    "should be printed from outside the class"
   ]
  },
  {
   "cell_type": "code",
   "execution_count": 11,
   "metadata": {},
   "outputs": [
    {
     "name": "stdout",
     "output_type": "stream",
     "text": [
      "Perimeter of triangle = 10\n"
     ]
    }
   ],
   "source": [
    "class Triangle:\n",
    "    def __init__(self,a,b,c):\n",
    "        self.a = a\n",
    "        self.b = b\n",
    "        self.c = c\n",
    "    \n",
    "    def perimeter(self):\n",
    "        return self.a+self.b+self.c\n",
    "\n",
    "tri1 = Triangle(2,3,5)\n",
    "p = tri1.perimeter()\n",
    "\n",
    "print(f'Perimeter of triangle = {p}')"
   ]
  },
  {
   "cell_type": "markdown",
   "metadata": {},
   "source": [
    "Q60 Python program to append ,delete and display elements of a list using classe\n"
   ]
  },
  {
   "cell_type": "code",
   "execution_count": 16,
   "metadata": {},
   "outputs": [
    {
     "name": "stdout",
     "output_type": "stream",
     "text": [
      "[1, 2]\n"
     ]
    }
   ],
   "source": [
    "class ListOp():\n",
    "    def __init__(self):\n",
    "        self.ls=[]\n",
    "    def add(self,a):\n",
    "        return self.ls.append(a)\n",
    "    def remove(self,r):\n",
    "        self.ls.remove(r)\n",
    "    def dis(self):\n",
    "        return (self.ls)\n",
    "newlist = ListOp()\n",
    "newlist.add(1)\n",
    "newlist.add(2)\n",
    "newlist.add(3)\n",
    "newlist.remove(3)\n",
    "print(newlist.dis())"
   ]
  },
  {
   "cell_type": "markdown",
   "metadata": {},
   "source": [
    "Q61 Write a program to create a class which performs basic calculator operations"
   ]
  },
  {
   "cell_type": "code",
   "execution_count": 18,
   "metadata": {},
   "outputs": [
    {
     "name": "stdout",
     "output_type": "stream",
     "text": [
      "7\n",
      "3\n",
      "10\n",
      "2.5\n"
     ]
    }
   ],
   "source": [
    "class Calci:\n",
    "\n",
    "    def __init__(self,a,b):\n",
    "        self.a = a\n",
    "        self.b = b\n",
    "    \n",
    "    def add(self):\n",
    "        return self.a + self.b\n",
    "    \n",
    "    def sub(self):\n",
    "        return self.a - self.b\n",
    "    \n",
    "    def mul(self):\n",
    "        return self.a * self.b\n",
    "    \n",
    "    def div(self):\n",
    "        return self.a / self.b\n",
    "\n",
    "cal = Calci(5,2)\n",
    "\n",
    "print(cal.add())\n",
    "print(cal.sub())\n",
    "print(cal.mul())\n",
    "print(cal.div())\n",
    "   "
   ]
  },
  {
   "cell_type": "markdown",
   "metadata": {},
   "source": [
    "Q62 Write a Python class named Student with two attributes student_id, student_name. Add a new attribute student_class. Create a function to\n",
    "display the entire attribute and their values in Student class."
   ]
  },
  {
   "cell_type": "code",
   "execution_count": 20,
   "metadata": {},
   "outputs": [
    {
     "name": "stdout",
     "output_type": "stream",
     "text": [
      "John\n",
      "18\n",
      "A4\n"
     ]
    }
   ],
   "source": [
    "class Student:\n",
    "    name = 'John'\n",
    "    id = 18\n",
    "def display(self):\n",
    "    print(self.name)\n",
    "    print(self.id)\n",
    "    print(self.class_name)\n",
    "    \n",
    "s = Student()\n",
    "setattr(s, 'class_name', 'A4')\n",
    "display(s)"
   ]
  },
  {
   "cell_type": "markdown",
   "metadata": {},
   "source": [
    "Q63 Write a Python class to reverse a string word by word."
   ]
  },
  {
   "cell_type": "code",
   "execution_count": 21,
   "metadata": {},
   "outputs": [
    {
     "name": "stdout",
     "output_type": "stream",
     "text": [
      "lamb little a had Marry\n"
     ]
    }
   ],
   "source": [
    "def func(st):\n",
    "    list = st.split(\" \")\n",
    "    st = ' '.join(reversed(list))\n",
    "    return st\n",
    "\n",
    "st = \"Marry had a little lamb\"\n",
    "print(func(st))"
   ]
  },
  {
   "cell_type": "markdown",
   "metadata": {},
   "source": [
    "Q64\n",
    "Write a Python class which has two methods get_String and print_String. get_String accept a string from the user and print_String print\n",
    "the string in upper case"
   ]
  },
  {
   "cell_type": "code",
   "execution_count": 55,
   "metadata": {},
   "outputs": [
    {
     "name": "stdout",
     "output_type": "stream",
     "text": [
      "THIS IS A STRING\n"
     ]
    }
   ],
   "source": [
    "class string:\n",
    "    def get_String(self):\n",
    "        self.st=input(\"Enter a string : \")\n",
    "    def print_String(self):\n",
    "        print(self.st.upper())\n",
    "str1 = string()\n",
    "str1.get_String()\n",
    "str1.print_String()"
   ]
  },
  {
   "cell_type": "markdown",
   "metadata": {},
   "source": [
    "Q65 Write a Python class named Circle constructed by a radius and two methods which will compute the area and the perimeter of a circle."
   ]
  },
  {
   "cell_type": "code",
   "execution_count": 24,
   "metadata": {},
   "outputs": [
    {
     "name": "stdout",
     "output_type": "stream",
     "text": [
      "200.96\n",
      "50.24\n"
     ]
    }
   ],
   "source": [
    "class Circle():\n",
    "    def __init__(self, r):\n",
    "        self.radius = r\n",
    "\n",
    "    def area(self):\n",
    "        return self.radius**2*3.14\n",
    "    \n",
    "    def perimeter(self):\n",
    "        return 2*self.radius*3.14\n",
    "NewCircle = Circle(8)\n",
    "print(NewCircle.area())\n",
    "print(NewCircle.perimeter())"
   ]
  },
  {
   "cell_type": "markdown",
   "metadata": {},
   "source": [
    "Q66\n",
    "Write a Python program to create a Vehicle class with max_speed and mileage instance attributes. Create a child class Bus that will\n",
    "inherit all of the variables and methods of the Vehicle class"
   ]
  },
  {
   "cell_type": "code",
   "execution_count": 26,
   "metadata": {},
   "outputs": [
    {
     "name": "stdout",
     "output_type": "stream",
     "text": [
      "The speed of vehicle is 120 kmph and milege is 20\n",
      "---Child class---\n",
      "The speed of vehicle is 140 kmph and milege is 40\n"
     ]
    }
   ],
   "source": [
    "class vehicle:\n",
    "    def __init__(self, speed , milege):\n",
    "        self.max_speed=speed\n",
    "        self.milege=milege\n",
    "        \n",
    "    def ride(self):\n",
    "        print(f\"The speed of vehicle is {self.max_speed} kmph and milege is {self.milege}\")\n",
    "\n",
    "p1=vehicle(120,20)\n",
    "p1.ride()\n",
    "\n",
    "print(\"---Child class---\")\n",
    "\n",
    "class bus(vehicle):\n",
    "    pass\n",
    "\n",
    "x=bus(140,40)\n",
    "x.ride()"
   ]
  },
  {
   "cell_type": "markdown",
   "metadata": {},
   "source": [
    "Q67 Load a dataset using pandas : perform basic operations , data visualization using matplotlib ,seaborn etc"
   ]
  },
  {
   "cell_type": "code",
   "execution_count": 32,
   "metadata": {},
   "outputs": [
    {
     "name": "stdout",
     "output_type": "stream",
     "text": [
      "     name         city  age  py-score\n",
      "0  Xavier  Mexico City   41      88.0\n",
      "1     Ann      Toronto   28      79.0\n",
      "2    Jana       Prague   33      81.0\n",
      "3      Yi     Shanghai   34      80.0\n",
      "4   Robin   Manchester   38      68.0\n",
      "5    Amal        Cairo   31      61.0\n",
      "6    Nori        Osaka   37      84.0\n"
     ]
    },
    {
     "data": {
      "image/png": "[encoded data removed]",
      "text/plain": [
       "<Figure size 432x288 with 1 Axes>"
      ]
     },
     "metadata": {
      "needs_background": "light"
     },
     "output_type": "display_data"
    }
   ],
   "source": [
    "data = {'name': ['Xavier', 'Ann', 'Jana', 'Yi', 'Robin', 'Amal', 'Nori'],\n",
    " 'city': ['Mexico City', 'Toronto', 'Prague', 'Shanghai','Manchester', 'Cairo', 'Osaka'],\n",
    " 'age': [41, 28, 33, 34, 38, 31, 37],\n",
    " 'py-score': [88.0, 79.0, 81.0, 80.0, 68.0, 61.0, 84.0]\n",
    " }\n",
    "\n",
    "f1=pd.DataFrame(data)\n",
    "\n",
    "print(f1)\n",
    "\n",
    "x=data[\"name\"]\n",
    "y=data[\"age\"]\n",
    "\n",
    "plt.plot(x,y,color =\"royalblue\")\n",
    "plt.show()"
   ]
  },
  {
   "cell_type": "markdown",
   "metadata": {},
   "source": [
    "Q68 WAPP to push all zeros to the end of a given list. The order of elements should not change:\n",
    "Input: 0 2 3 4 6 7 9 0\n",
    "Output:2 3 4 6 7 9 0 0"
   ]
  },
  {
   "cell_type": "code",
   "execution_count": 33,
   "metadata": {},
   "outputs": [
    {
     "name": "stdout",
     "output_type": "stream",
     "text": [
      "[2, 3, 4, 6, 7, 9, 0, 0]\n"
     ]
    }
   ],
   "source": [
    "ls = [0,2,3,4,6,7,9,0]\n",
    "for i in ls:\n",
    "    if i == 0:\n",
    "        ls.remove(0)\n",
    "        ls.append(0)\n",
    "print(ls)"
   ]
  },
  {
   "cell_type": "markdown",
   "metadata": {},
   "source": [
    "Q69 Write a program that accepts a comma separated sequence of words as input and prints the words in a comma separated sequence after\n",
    "sorting them alphabetically."
   ]
  },
  {
   "cell_type": "code",
   "execution_count": 34,
   "metadata": {},
   "outputs": [
    {
     "name": "stdout",
     "output_type": "stream",
     "text": [
      "a,is,sentence,this\n"
     ]
    }
   ],
   "source": [
    "sen = input(\"Enter a comma sepreated sentence\")\n",
    "lis = sen.split(\",\")\n",
    "lis.sort()\n",
    "sen = \",\".join(lis)\n",
    "print(sen)"
   ]
  },
  {
   "cell_type": "markdown",
   "metadata": {},
   "source": [
    "Q70 WAP that calculates & prints value accoridng to given formula:\n",
    "Q=Square root of [(2*C*D)/H]\n",
    "C is 50 , H is 30. D is variable whose values should be input to program in comma separated sequence.\n",
    "Input: 100,150,180\n",
    "Output:18,22,24"
   ]
  },
  {
   "cell_type": "code",
   "execution_count": 54,
   "metadata": {},
   "outputs": [
    {
     "name": "stdout",
     "output_type": "stream",
     "text": [
      "18,22,24,"
     ]
    }
   ],
   "source": [
    "d = input(\"Enter a comma seperated sentence: \")\n",
    "ls = d.split(\",\")\n",
    "ans = []\n",
    "for val in ls:\n",
    "    valint = int(val)\n",
    "    f = int(math.sqrt((2*50*valint)/30))\n",
    "    ans.append(f)\n",
    "\n",
    "for i in range(len(ans)):\n",
    "    print(f'{ans[i]},',end='')"
   ]
  },
  {
   "cell_type": "markdown",
   "metadata": {},
   "source": [
    "Q71 With given list L of integers , write a program that prints this L after removing duplicate values with original order preserved.\n",
    "Input: 12 24 35 24 88 120 155 88 120 155\n",
    "Output: 12 24 35 88 120 155"
   ]
  },
  {
   "cell_type": "code",
   "execution_count": 48,
   "metadata": {},
   "outputs": [
    {
     "name": "stdout",
     "output_type": "stream",
     "text": [
      "[12, 24, 35, 88, 120, 155]\n"
     ]
    }
   ],
   "source": [
    "ans = []\n",
    "list = [12,24,35,24,88,120,155,88,120,155]\n",
    "for i in list:\n",
    "    if not i in ans:\n",
    "        ans.append(i)\n",
    "print(ans)"
   ]
  },
  {
   "cell_type": "markdown",
   "metadata": {},
   "source": [
    "Q72 \n",
    "Given an integer number n , define function named printDict(),which can print a dictionary where keys are numbers between 1 to n (both\n",
    "included) and values are square of keys . Function printDict(), does not take any arguments."
   ]
  },
  {
   "cell_type": "code",
   "execution_count": 49,
   "metadata": {},
   "outputs": [
    {
     "name": "stdout",
     "output_type": "stream",
     "text": [
      "{1: 1, 2: 4, 3: 9, 4: 16, 5: 25}\n"
     ]
    }
   ],
   "source": [
    "n = int(input(\"Enter n\"))\n",
    "def printDict():\n",
    "    dict = {}\n",
    "    for i in range(1,n+1):\n",
    "        dict[i] = i*i\n",
    "    print(dict)\n",
    "printDict()"
   ]
  },
  {
   "cell_type": "markdown",
   "metadata": {},
   "source": [
    "Q73 Python program to find the sum of the digits of an integer using while loop"
   ]
  },
  {
   "cell_type": "code",
   "execution_count": 57,
   "metadata": {},
   "outputs": [
    {
     "name": "stdout",
     "output_type": "stream",
     "text": [
      "10\n"
     ]
    }
   ],
   "source": [
    "n = int(input(\"Enter an integer\"))\n",
    "ans = 0\n",
    "while n>0:\n",
    "    i = n%10\n",
    "    ans += i\n",
    "    n //= 10\n",
    "print(ans)\n"
   ]
  },
  {
   "cell_type": "markdown",
   "metadata": {},
   "source": [
    "Q74 Python program to generate the prime numbers from 1 to N"
   ]
  },
  {
   "cell_type": "code",
   "execution_count": 58,
   "metadata": {},
   "outputs": [
    {
     "name": "stdout",
     "output_type": "stream",
     "text": [
      "2\n",
      "3\n",
      "5\n",
      "7\n",
      "11\n",
      "13\n",
      "17\n",
      "19\n",
      "23\n"
     ]
    }
   ],
   "source": [
    "def print_prime(n):\n",
    "    for num in range(2, n + 1):\n",
    "        for i in range(2, num):\n",
    "            if (num % i) == 0:\n",
    "                break\n",
    "        else:\n",
    "            print(num)\n",
    "print_prime(25)"
   ]
  },
  {
   "cell_type": "markdown",
   "metadata": {},
   "source": [
    "Q75 Python program to print the numbers from a given number n till 0 using recursion"
   ]
  },
  {
   "cell_type": "code",
   "execution_count": 60,
   "metadata": {},
   "outputs": [
    {
     "name": "stdout",
     "output_type": "stream",
     "text": [
      "8 7 6 5 4 3 2 1 "
     ]
    }
   ],
   "source": [
    "def rec(n):\n",
    "    if n <= 0:\n",
    "        return\n",
    "    print(n,end=\" \")\n",
    "    n -= 1\n",
    "    rec(n)\n",
    "rec(8)"
   ]
  },
  {
   "cell_type": "markdown",
   "metadata": {},
   "source": [
    "Q76 Write a Python function student_data () which will print the id of a student (student_id). If the user passes an argument student_name or\n",
    "student_class the function will print the student name and class."
   ]
  },
  {
   "cell_type": "code",
   "execution_count": null,
   "metadata": {},
   "outputs": [],
   "source": [
    "def student_data(student_id, **kwargs):\n",
    "    print(f'\\nStudent ID: {student_id}')\n",
    "    if 'student_name' and 'student_class' in kwargs:\n",
    "            print(f\"Student Name: $ {kwargs['student_name']}\")\n",
    "            print(f\"Student Class: $ {kwargs['student_class']}\")\n",
    "\n",
    "    elif 'student_name' in kwargs:\n",
    "        print(f\"Student Name: $ {kwargs['student_name']}\")\n",
    "student_data(student_id='SV12', student_name='Jean Garner')\n",
    "student_data(student_id='SV12', student_name='Jean Garner', student_class ='V')"
   ]
  },
  {
   "cell_type": "markdown",
   "metadata": {},
   "source": [
    "Q77 Write a Python class to convert a roman numeral to an integer"
   ]
  },
  {
   "cell_type": "code",
   "execution_count": 64,
   "metadata": {},
   "outputs": [
    {
     "name": "stdout",
     "output_type": "stream",
     "text": [
      "7\n"
     ]
    }
   ],
   "source": [
    "def roman_to_int(str):\n",
    "    rom_val = {'I': 1, 'V': 5, 'X': 10, 'L': 50, 'C': 100, 'D': 500, 'M': 1000}\n",
    "    ans = 0\n",
    "    for i in range(len(str)):\n",
    "        ans += rom_val[str[i]]\n",
    "        if i>0 and rom_val[str[i]]>rom_val[str[i-1]]:\n",
    "            ans -= 2*rom_val[str[i-1]]\n",
    "    print(ans)\n",
    "roman_to_int(\"VII\")"
   ]
  },
  {
   "cell_type": "markdown",
   "metadata": {},
   "source": [
    "Q78 Write a Python class to get all possible unique subsets from a set of distinct integers"
   ]
  },
  {
   "cell_type": "code",
   "execution_count": null,
   "metadata": {},
   "outputs": [],
   "source": [
    "import itertools\n",
    "def findSubsets(s,n):\n",
    "    return list(itertools.combinations(s,n))\n",
    "\n",
    "s={1,2,3,4}\n",
    "for n in range(1,len(s)):\n",
    "    print(findSubsets(s,n))"
   ]
  },
  {
   "cell_type": "markdown",
   "metadata": {},
   "source": [
    "Q79 Write a Python class to find a pair of elements (indices of the two numbers) from a given array whose sum equals a specific target\n",
    "number"
   ]
  },
  {
   "cell_type": "code",
   "execution_count": null,
   "metadata": {},
   "outputs": [],
   "source": [
    "class py_solution:\n",
    "  def twoSum(self, nums, target):\n",
    "       lookup = {}\n",
    "       for i, num in enumerate(nums):\n",
    "           if target - num in lookup:\n",
    "               return (lookup[target - num], i )\n",
    "           lookup[num] = i\n",
    "print(\"index1=%d, index2=%d\" % py_solution().twoSum((10,20,10,40,50,60,70),50))"
   ]
  },
  {
   "cell_type": "markdown",
   "metadata": {},
   "source": [
    "Q80Write a Python class to implement pow(x, n)."
   ]
  },
  {
   "cell_type": "code",
   "execution_count": null,
   "metadata": {},
   "outputs": [],
   "source": [
    "def pow(x,n):\n",
    "    return x**n\n",
    "print(pow(2,4))"
   ]
  }
 ],
 "metadata": {
  "kernelspec": {
   "display_name": "Python 3.9.7 ('base')",
   "language": "python",
   "name": "python3"
  },
  "language_info": {
   "codemirror_mode": {
    "name": "ipython",
    "version": 3
   },
   "file_extension": ".py",
   "mimetype": "text/x-python",
   "name": "python",
   "nbconvert_exporter": "python",
   "pygments_lexer": "ipython3",
   "version": "3.9.7"
  },
  "orig_nbformat": 4,
  "vscode": {
   "interpreter": {
    "hash": "0f5646505532b5ceed30599b8730b9c46ca6add009300086ae5479edfd3c892d"
   }
  }
 },
 "nbformat": 4,
 "nbformat_minor": 2
}
